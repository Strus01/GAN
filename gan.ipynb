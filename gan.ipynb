{
 "cells": [
  {
   "cell_type": "code",
   "execution_count": null,
   "metadata": {
    "collapsed": true
   },
   "outputs": [],
   "source": [
    "import os\n",
    "import glob\n",
    "import re\n",
    "\n",
    "from typing import Optional\n",
    "\n",
    "import torch\n",
    "import torch.nn as nn\n",
    "import torch.optim as optim\n",
    "import torch.nn.functional as F\n",
    "import torchvision.transforms as transforms\n",
    "from torchvision.utils import make_grid, save_image\n",
    "from torch.utils.data import Dataset, DataLoader, random_split\n",
    "\n",
    "import pytorch_lightning as pl\n",
    "\n",
    "from PIL import Image"
   ]
  },
  {
   "cell_type": "code",
   "execution_count": null,
   "metadata": {},
   "outputs": [],
   "source": [
    "DATA_DIR = 'data\\Abstract_gallery'\n",
    "CHECKPOINTS_DIR = 'checkpoints'\n",
    "GENERATED_IMGS_DIR = 'generated_imgs'\n",
    "IMAGE_SIZE = (64, 64)\n",
    "BATCH_SIZE = 64\n",
    "IMAGE_CHANNELS = 3\n",
    "LATENT_SIZE = 256\n",
    "EPOCHS = 300\n",
    "NUM_WORKERS = 0\n",
    "random_seed = 42\n",
    "torch.manual_seed(random_seed)"
   ]
  },
  {
   "cell_type": "code",
   "execution_count": null,
   "metadata": {},
   "outputs": [],
   "source": [
    "device = 'cuda' if torch.cuda.is_available() else 'cpu'\n",
    "device"
   ]
  },
  {
   "cell_type": "code",
   "execution_count": null,
   "outputs": [],
   "source": [
    "def save_images(image_tensor, epoch, num_images=25):\n",
    "    path = os.path.join(GENERATED_IMGS_DIR, 'generated_img' + '_' + str(epoch) + '.png')\n",
    "    image_tensor = (image_tensor + 1) / 2\n",
    "    image_unflat = image_tensor.detach().cpu()\n",
    "    image_grid = make_grid(image_unflat[:num_images], nrow=5)\n",
    "    save_image(image_grid, path)"
   ],
   "metadata": {
    "collapsed": false
   }
  },
  {
   "cell_type": "code",
   "execution_count": null,
   "outputs": [],
   "source": [
    "def weights_init(m):\n",
    "    classname = m.__class__.__name__\n",
    "    if classname.find('Conv') != -1:\n",
    "        nn.init.normal_(m.weight.data, 0.0, 0.02)\n",
    "    elif classname.find('BatchNorm') != -1:\n",
    "        nn.init.normal_(m.weight.data, 1.0, 0.02)\n",
    "        nn.init.constant_(m.bias.data, 0)"
   ],
   "metadata": {
    "collapsed": false
   }
  },
  {
   "cell_type": "code",
   "execution_count": null,
   "outputs": [],
   "source": [
    "def get_noise(cur_batch_size, z_dim):\n",
    "    noise = torch.randn(cur_batch_size, z_dim, 1, 1, device=device)\n",
    "    return noise"
   ],
   "metadata": {
    "collapsed": false
   }
  },
  {
   "cell_type": "code",
   "execution_count": null,
   "metadata": {},
   "outputs": [],
   "source": [
    "class AbstractGalleryDataset(Dataset):\n",
    "    def __init__(self, root_dir, transform=None):\n",
    "        self.root_dir = root_dir\n",
    "        self.transform = transform\n",
    "\n",
    "    def __len__(self):\n",
    "        return len([image for image in os.listdir(self.root_dir) if os.path.isfile(os.path.join(self.root_dir, image))])\n",
    "\n",
    "    def __getitem__(self, index):\n",
    "        image_path = os.path.join(self.root_dir, os.listdir(self.root_dir)[index])\n",
    "        image = Image.open(image_path)\n",
    "\n",
    "        if self.transform:\n",
    "            image = self.transform(image)\n",
    "\n",
    "        return image"
   ]
  },
  {
   "cell_type": "code",
   "execution_count": null,
   "metadata": {},
   "outputs": [],
   "source": [
    "class AbstractGalleryDataModule(pl.LightningDataModule):\n",
    "    def __init__(self, data_dir=DATA_DIR, batch_size=BATCH_SIZE):\n",
    "        super().__init__()\n",
    "        self.data_dir = data_dir\n",
    "        self.batch_size = batch_size\n",
    "        self.transform = transforms.Compose(\n",
    "            [\n",
    "                transforms.Resize(IMAGE_SIZE),\n",
    "                transforms.ToTensor(),\n",
    "                transforms.Normalize((0.5, 0.5, 0.5), (0.5, 0.5, 0.5))\n",
    "            ]\n",
    "        )\n",
    "\n",
    "    def setup(self, stage: Optional[str] = None):\n",
    "        df = AbstractGalleryDataset(DATA_DIR, transform=self.transform)\n",
    "        self.train, self.test = random_split(df, [1950, 832])\n",
    "\n",
    "    def train_dataloader(self):\n",
    "        return DataLoader(self.train, batch_size=self.batch_size, num_workers=NUM_WORKERS)\n",
    "\n",
    "    def test_dataloader(self):\n",
    "        return DataLoader(self.test, batch_size=self.batch_size, num_workers=NUM_WORKERS)"
   ]
  },
  {
   "cell_type": "code",
   "execution_count": null,
   "metadata": {},
   "outputs": [],
   "source": [
    "class Generator(nn.Module):\n",
    "    def __init__(self, latent_dim):\n",
    "        super(Generator, self).__init__()\n",
    "\n",
    "        self.model = nn.Sequential(\n",
    "            # n x latent_dim x 1 x 1\n",
    "            nn.ConvTranspose2d(latent_dim, 64 * 8, kernel_size=4, stride=1, padding=0),\n",
    "            nn.BatchNorm2d(64 * 8),\n",
    "            nn.ReLU(True),\n",
    "            # n x 64*8 x 4 x 4\n",
    "            nn.ConvTranspose2d(64 * 8, 64 * 4, kernel_size=4, stride=2, padding=1),\n",
    "            nn.BatchNorm2d(64 * 4),\n",
    "            nn.ReLU(True),\n",
    "            # n x 64*4 x 8 x 8\n",
    "            nn.ConvTranspose2d(64 * 4, 64 * 2, kernel_size=4, stride=2, padding=1),\n",
    "            nn.BatchNorm2d(64 * 2),\n",
    "            nn.ReLU(True),\n",
    "            # n x 64*2 x 16 x 16\n",
    "            nn.ConvTranspose2d(64 * 2, 64, kernel_size=4, stride=2, padding=1),\n",
    "            nn.BatchNorm2d(64),\n",
    "            nn.ReLU(True),\n",
    "            # n x 64 x 32 x 32\n",
    "            nn.ConvTranspose2d(64, IMAGE_CHANNELS, kernel_size=4, stride=2, padding=1),\n",
    "            # n x IMAGE_CHANNELS x 64 x 64\n",
    "            nn.Tanh()\n",
    "        )\n",
    "\n",
    "    def forward(self, x):\n",
    "        return self.model(x)"
   ]
  },
  {
   "cell_type": "code",
   "execution_count": null,
   "metadata": {},
   "outputs": [],
   "source": [
    "class Discriminator(nn.Module):\n",
    "    def __init__(self):\n",
    "        super(Discriminator, self).__init__()\n",
    "\n",
    "        self.model = nn.Sequential(\n",
    "            # n x IMAGE_CHANNELS x 64 x 64\n",
    "            nn.Conv2d(IMAGE_CHANNELS, 64, kernel_size=4, stride=2, padding=1),\n",
    "            nn.BatchNorm2d(64),\n",
    "            nn.LeakyReLU(0.2),\n",
    "            # n x 64 x 32 x 32\n",
    "            nn.Conv2d(64, 64 * 2, kernel_size=4, stride=2, padding=1),\n",
    "            nn.BatchNorm2d(64 * 2),\n",
    "            nn.LeakyReLU(0.2),\n",
    "            # n x 64*2 x 16 x 16\n",
    "            nn.Conv2d(64 * 2, 64 * 4, kernel_size=4, stride=2, padding=1),\n",
    "            nn.BatchNorm2d(64 * 4),\n",
    "            nn.LeakyReLU(0.2),\n",
    "            # n x 64*4 x 8 x 8\n",
    "            nn.Conv2d(64 * 4, 64 * 8, kernel_size=4, stride=2, padding=1),\n",
    "            nn.BatchNorm2d(64 * 8),\n",
    "            nn.LeakyReLU(0.2),\n",
    "            # n x 64*8 x 4 x 4\n",
    "            nn.Conv2d(64 * 8, 1, kernel_size=4, stride=1, padding=0),\n",
    "            # n x 1 x 1 x 1\n",
    "            nn.Sigmoid()\n",
    "        )\n",
    "\n",
    "    def forward(self, x):\n",
    "        pred = self.model(x)\n",
    "        return pred.view(len(pred), -1)"
   ]
  },
  {
   "cell_type": "code",
   "execution_count": null,
   "metadata": {},
   "outputs": [],
   "source": [
    "class DCGAN(pl.LightningModule):\n",
    "    def __init__(self, lr=0.0002, latent_dim=100, b1=0.5, b2=0.999):\n",
    "        super().__init__()\n",
    "        self.save_hyperparameters()\n",
    "\n",
    "        self.generator = Generator(self.hparams.latent_dim)\n",
    "        self.discriminator = Discriminator()\n",
    "\n",
    "        self.generator.apply(weights_init)\n",
    "        self.discriminator.apply(weights_init)\n",
    "\n",
    "    def forward(self, z):\n",
    "        return self.generator(z)\n",
    "\n",
    "    def adversarial_loss(self, y_hat, y):\n",
    "        return F.binary_cross_entropy(y_hat, y)\n",
    "\n",
    "    def generator_step(self, x, z):\n",
    "        # generate fake images\n",
    "        self.gen_imgs = self.generator(z)\n",
    "\n",
    "        y_hat_fake = self.discriminator(self.gen_imgs)\n",
    "\n",
    "        generator_loss = self.adversarial_loss(y_hat_fake, torch.ones_like(y_hat_fake))\n",
    "        self.log('generator_loss', generator_loss, prog_bar=True, sync_dist=True)\n",
    "        return generator_loss\n",
    "\n",
    "    def discriminator_step(self, x, z):\n",
    "        y_hat_real = self.discriminator(x)\n",
    "        y_hat_fake = self.discriminator(self.gen_imgs.detach())\n",
    "\n",
    "        real_loss = self.adversarial_loss(y_hat_real, torch.ones_like(y_hat_real))\n",
    "        fake_loss = self.adversarial_loss(y_hat_fake, torch.zeros_like(y_hat_fake))\n",
    "        discriminator_loss = (real_loss + fake_loss) / 2\n",
    "        self.log('discriminator_loss', discriminator_loss, prog_bar=True, sync_dist=True)\n",
    "        return discriminator_loss\n",
    "\n",
    "    def training_step(self, batch, batch_idx, optimizer_idx):\n",
    "        real_imgs = batch\n",
    "\n",
    "        # sample noise\n",
    "        z = get_noise(real_imgs.shape[0], self.hparams.latent_dim)\n",
    "        z = z.type_as(real_imgs)\n",
    "\n",
    "        loss = 0.0\n",
    "        if optimizer_idx == 0:\n",
    "            loss = self.generator_step(real_imgs, z)\n",
    "\n",
    "        elif optimizer_idx == 1:\n",
    "            loss = self.discriminator_step(real_imgs, z)\n",
    "        return loss\n",
    "\n",
    "    def configure_optimizers(self):\n",
    "        lr = self.hparams.lr\n",
    "        b1 = self.hparams.b1\n",
    "        b2 = self.hparams.b2\n",
    "\n",
    "        generator_optimizer = optim.Adam(self.generator.parameters(), lr=lr, betas=(b1, b2))\n",
    "        discriminator_optimizer = optim.Adam(self.discriminator.parameters(), lr=lr, betas=(b1, b2))\n",
    "\n",
    "        return [generator_optimizer, discriminator_optimizer], []\n",
    "\n",
    "    def on_epoch_end(self):\n",
    "        save_images(self.gen_imgs, self.current_epoch)"
   ]
  },
  {
   "cell_type": "code",
   "execution_count": null,
   "metadata": {},
   "outputs": [],
   "source": [
    "dm = AbstractGalleryDataModule()\n",
    "model = DCGAN()"
   ]
  },
  {
   "cell_type": "code",
   "execution_count": null,
   "metadata": {},
   "outputs": [],
   "source": [
    "trainer = pl.Trainer(max_epochs=EPOCHS,\n",
    "                     accelerator='gpu',\n",
    "                     devices=1,\n",
    "                     default_root_dir=CHECKPOINTS_DIR,\n",
    "                     log_every_n_steps=31)\n",
    "trainer.fit(model, dm)"
   ]
  },
  {
   "cell_type": "code",
   "execution_count": null,
   "metadata": {},
   "outputs": [],
   "source": [
    "l = glob.glob(f'{GENERATED_IMGS_DIR}/generated_img_*.png')\n",
    "l.sort(key=lambda f: int(re.sub('\\D', '', f)))\n",
    "frames = [Image.open(image) for image in l]\n",
    "frame_one = frames[0]\n",
    "frame_one.save(f'{GENERATED_IMGS_DIR}/generated_images.gif', format='GIF', append_images=frames, save_all=True,\n",
    "               duration=200, loop=0, optimize=False)"
   ]
  }
 ],
 "metadata": {
  "kernelspec": {
   "display_name": "Python 3 (ipykernel)",
   "language": "python",
   "name": "python3"
  },
  "language_info": {
   "codemirror_mode": {
    "name": "ipython",
    "version": 3
   },
   "file_extension": ".py",
   "mimetype": "text/x-python",
   "name": "python",
   "nbconvert_exporter": "python",
   "pygments_lexer": "ipython3",
   "version": "3.10.5"
  }
 },
 "nbformat": 4,
 "nbformat_minor": 1
}
